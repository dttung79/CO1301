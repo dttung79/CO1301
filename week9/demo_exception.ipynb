{
 "cells": [
  {
   "cell_type": "code",
   "execution_count": 14,
   "metadata": {},
   "outputs": [],
   "source": [
    "def get_int(prompt):\n",
    "    while True:\n",
    "        try:\n",
    "            a = int(input(prompt))\n",
    "            break\n",
    "        except ValueError:\n",
    "            print('Invalid input. Please enter a number')\n",
    "\n",
    "    return a"
   ]
  },
  {
   "cell_type": "code",
   "execution_count": 15,
   "metadata": {},
   "outputs": [
    {
     "name": "stdout",
     "output_type": "stream",
     "text": [
      "Invalid input. Please enter a number\n",
      "Invalid input. Please enter a number\n",
      "100\n"
     ]
    }
   ],
   "source": [
    "#a = int(input('Enter a number: ')) # not handling exception\n",
    "a = get_int('Enter a number: ') # handling exception\n",
    "print(a)"
   ]
  },
  {
   "cell_type": "code",
   "execution_count": 22,
   "metadata": {},
   "outputs": [
    {
     "name": "stdout",
     "output_type": "stream",
     "text": [
      "[61, 56, 66, 77, 30, 29, 90, 81, 23, 46]\n",
      "Invalid input. Please enter b as a non-zero number\n"
     ]
    }
   ],
   "source": [
    "import random as rd\n",
    "try:\n",
    "    a = rd.sample(range(1, 100), 10)\n",
    "    print(a)\n",
    "    i = int(input('Enter an index: '))\n",
    "    b = int(input('Enter a number: '))\n",
    "    print(f'{a[i]} / {b} = {a[i] / b:.2f}')\n",
    "except ValueError:\n",
    "    print('Invalid input. Please enter a number')\n",
    "except IndexError:\n",
    "    print('Invalid index. Please enter a number between 0 and 9')\n",
    "except ZeroDivisionError:\n",
    "    print('Invalid input. Please enter b as a non-zero number')"
   ]
  }
 ],
 "metadata": {
  "kernelspec": {
   "display_name": "Python 3",
   "language": "python",
   "name": "python3"
  },
  "language_info": {
   "codemirror_mode": {
    "name": "ipython",
    "version": 3
   },
   "file_extension": ".py",
   "mimetype": "text/x-python",
   "name": "python",
   "nbconvert_exporter": "python",
   "pygments_lexer": "ipython3",
   "version": "3.9.12"
  }
 },
 "nbformat": 4,
 "nbformat_minor": 2
}
