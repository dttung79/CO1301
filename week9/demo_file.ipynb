{
 "cells": [
  {
   "cell_type": "code",
   "execution_count": 14,
   "metadata": {},
   "outputs": [
    {
     "name": "stdout",
     "output_type": "stream",
     "text": [
      "Hello\n",
      "Hello World\n",
      "Hello Python World\n",
      "['Hello', 'Hello World', 'Hello Python World']\n",
      "Hello\n",
      "Hello World\n",
      "Hello Python World\n"
     ]
    }
   ],
   "source": [
    "f = open('hello.txt', 'r')\n",
    "content = f.read() # read the whole file into a string\n",
    "f.close()\n",
    "\n",
    "print(content)\n",
    "\n",
    "lines = content.split('\\n') # split the string into a list of lines\n",
    "print(lines)\n",
    "for li in lines:\n",
    "    print(li)"
   ]
  },
  {
   "cell_type": "code",
   "execution_count": 8,
   "metadata": {},
   "outputs": [
    {
     "name": "stdout",
     "output_type": "stream",
     "text": [
      "Hello\n",
      "Hello World\n",
      "Hello Python World\n"
     ]
    }
   ],
   "source": [
    "with open('hello.txt', 'r') as f:\n",
    "    content = f.read()\n",
    "    print(content)"
   ]
  },
  {
   "cell_type": "code",
   "execution_count": 12,
   "metadata": {},
   "outputs": [
    {
     "name": "stdout",
     "output_type": "stream",
     "text": [
      "Hello\n",
      "Hello World\n",
      "Hello Python World\n"
     ]
    }
   ],
   "source": [
    "with open('hello.txt', 'r') as f:\n",
    "    lines = f.readlines() # read the whole file into a list of lines\n",
    "\n",
    "for li in lines:\n",
    "    print(li.strip())  # remove the last character (new line) of each line"
   ]
  },
  {
   "cell_type": "code",
   "execution_count": 21,
   "metadata": {},
   "outputs": [
    {
     "name": "stdout",
     "output_type": "stream",
     "text": [
      "File hello not found\n",
      "File hello.csv not found\n",
      "File hello.text not found\n",
      "File hello.text not found\n",
      "Hello\n",
      "Hello World\n",
      "Hello Python World\n"
     ]
    }
   ],
   "source": [
    "while True:\n",
    "    try:\n",
    "        file_name = input('Enter file name: ')\n",
    "        with open(file_name, 'r') as f:\n",
    "            line = f.readline() # read the first line\n",
    "            while line:\n",
    "                print(line.strip())\n",
    "                line = f.readline() # read each line\n",
    "        break\n",
    "    except FileNotFoundError:\n",
    "        print(f'File {file_name} not found')"
   ]
  },
  {
   "cell_type": "code",
   "execution_count": 1,
   "metadata": {},
   "outputs": [
    {
     "name": "stdout",
     "output_type": "stream",
     "text": [
      "The Triboro Bridge and Tunnel Authority\n",
      "The Metropolitan Transit Authority\n",
      "The Port Authority of New York and New Jersey\n"
     ]
    }
   ],
   "source": [
    "# Ex1: Read agencies.txt, find the agency which name contains 'Authority'\n",
    "with open('agencies.txt', 'r') as f:\n",
    "    lines = f.readlines()\n",
    "\n",
    "for li in lines:\n",
    "    if 'Authority' in li:\n",
    "        print(li.strip())"
   ]
  },
  {
   "cell_type": "code",
   "execution_count": 5,
   "metadata": {},
   "outputs": [
    {
     "name": "stdout",
     "output_type": "stream",
     "text": [
      "Paul Bakaus                    paul.bakaus@gmail.com         \n",
      "Richard Worth                  rdworth@gmail.com             \n",
      "Yehuda Katz                    wycats@gmail.com              \n",
      "John Resig                     jeresig@gmail.com             \n",
      "Tane Piper                     piper.tane@gmail.com          \n",
      "Dmitri Gaskin                  dmitrig01@gmail.com           \n",
      "Klaus Hartl                    klaus.hartl@gmail.com         \n",
      "Stefan Petre                   stefan.petre@gmail.com        \n",
      "Jörn Zaefferer                 joern.zaefferer@gmail.com     \n",
      "Brandon Aaron                  brandon.aaron@gmail.com       \n",
      "Scott González                 scott.gonzalez@gmail.com      \n",
      "Eduardo Lundgren               eduardolundgren@gmail.com     \n",
      "Aaron Eisenberger              aaronchi@gmail.com            \n",
      "Joan Piedra                    theneojp@gmail.com            \n",
      "Bruno Basto                    b.basto@gmail.com             \n",
      "Bohdan Ganicky                 bohdan.ganicky@gmail.com      \n",
      "David Bolter                   david.bolter@gmail.com        \n",
      "Chi Cheng                      cloudream@gmail.com           \n",
      "Ca-Phun Ung                    pazu2k@gmail.com              \n",
      "Ariel Flesler                  aflesler@gmail.com            \n",
      "Scott Jehl                     scottjehl@gmail.com           \n",
      "Brant Burnett                  btburnett3@gmail.com          \n",
      "Paul Irish                     paul.irish@gmail.com          \n",
      "Ralph Whitbeck                 ralph.whitbeck@gmail.com      \n",
      "Thibault Duplessis             thibault.duplessis@gmail.com  \n",
      "Jack Hsu                       jack.hsu@gmail.com            \n",
      "Alberto Fernández Capel        afcapel@gmail.com             \n",
      "Jon Palmer                     jonspalmer@gmail.com          \n",
      "Tiago Freire                   tiago.freire@gmail.com        \n",
      "Diego Tres                     diegotres@gmail.com           \n",
      "Ziling Zhao                    zilingzhao@gmail.com          \n",
      "Mike Alsup                     malsup@gmail.com              \n",
      "Robson Braga Araujo            robsonbraga@gmail.com         \n",
      "Pierre-Henri Ausseil           ph.ausseil@gmail.com          \n",
      "Christopher McCulloh           cmcculloh@gmail.com           \n",
      "Lim Chee Aun                   cheeaun@gmail.com             \n",
      "Jorge Barreiro                 yortx.barry@gmail.com         \n",
      "Andrey Kapitcyn                ru.m157y@gmail.com            \n",
      "Dmitry Petrov                  dpetroff@gmail.com            \n",
      "Josh Varner                    josh.varner@gmail.com         \n",
      "Stéphane Raimbault             stephane.raimbault@gmail.com  \n",
      "Jay Merrifield                 fracmak@gmail.com             \n",
      "J. Ryan Stinnett               jryans@gmail.com              \n",
      "Alex Dovenmuehle               adovenmuehle@gmail.com        \n",
      "Raymond Schwartz               skeetergraphics@gmail.com     \n",
      "Phillip Barnes                 philbar@gmail.com             \n",
      "Doug Blood                     dougblood@gmail.com           \n",
      "Aliaksandr Rahalevich          saksmlz@gmail.com             \n",
      "Xavi Ramirez                   xavi.rmz@gmail.com            \n",
      "Max Schnur                     max.schnur@gmail.com          \n",
      "Saji Nediyanchath              saji89@gmail.com              \n",
      "Corey Frang                    gnarf37@gmail.com             \n",
      "George Marshall                echosx@gmail.com              \n",
      "Martin Solli                   msolli@gmail.com              \n",
      "Dan Heberden                   danheberden@gmail.com         \n",
      "William Kevin Manire           williamkmanire@gmail.com      \n",
      "Gilmore Davidson               gilmoreorless@gmail.com       \n",
      "Michael Wu                     michaelmwu@gmail.com          \n",
      "Adam Parod                     mystic414@gmail.com           \n",
      "Marcel Toele                   EleotleCram@gmail.com         \n",
      "Kyle Florence                  kyle.florence@gmail.com       \n",
      "Hans Hillen                    hans.hillen@gmail.com         \n",
      "Trey Hunner                    treyhunner@gmail.com          \n",
      "Shane Whittet                  whittet@gmail.com             \n",
      "Kato Kazuyoshi                 kato.kazuyoshi@gmail.com      \n",
      "Eike Send                      eike.send@gmail.com           \n",
      "Kris Borchers                  kris.borchers@gmail.com       \n",
      "Israel Tsadok                  itsadok@gmail.com             \n",
      "Garrison Locke                 gplocke@gmail.com             \n",
      "Benjamin Scott Boyle           benjamins.boyle@gmail.com     \n",
      "Jesse Baird                    jebaird@gmail.com             \n",
      "Jonathan Vingiano              jvingiano@gmail.com           \n",
      "Hiroshi Tomita                 tomykaira@gmail.com           \n",
      "Glenn Goodrich                 glenn.goodrich@gmail.com      \n",
      "Tarafder Ashek-E-Elahi         mail.ashek@gmail.com          \n",
      "Marc Neuwirth                  marc.neuwirth@gmail.com       \n",
      "Philip Graham                  philip.robert.graham@gmail.com\n",
      "Wesley Walser                  waw325@gmail.com              \n",
      "Karl Kirch                     karlkrch@gmail.com            \n",
      "Alexander Polomoshnov          alex.polomoshnov@gmail.com    \n",
      "David Leal                     dgleal@gmail.com              \n",
      "Igor Milla                     igor.fsp.milla@gmail.com      \n",
      "Dave Methvin                   dave.methvin@gmail.com        \n",
      "Marwan Al Jubeh                marwan.aljubeh@gmail.com      \n",
      "Gaëtan Muller                  m.gaetan89@gmail.com          \n",
      "Stojce Slavkovski              stojce@gmail.com              \n",
      "David Soms                     david.soms@gmail.com          \n",
      "Shannon Pekary                 spekary@gmail.com             \n",
      "Rob Loach                      robloach@gmail.com            \n",
      "Alberto Monteiro               betimbrasil@gmail.com         \n",
      "Alex Rhea                      alex.rhea@gmail.com           \n",
      "Krzysztof Rosiński             rozwell69@gmail.com           \n",
      "Ryan Olton                     oltonr@gmail.com              \n",
      "Rick Waldron                   waldron.rick@gmail.com        \n",
      "Ian Simpson                    spoonlikesham@gmail.com       \n",
      "Lev Kitsis                     spam4lev@gmail.com            \n",
      "TJ VanToll                     tj.vantoll@gmail.com          \n",
      "Justin Domnitz                 jdomnitz@gmail.com            \n",
      "Jasvir Nagra                   jasvir@gmail.com              \n",
      "Yuriy Khabarov                 13real008@gmail.com           \n",
      "Harri Kilpiö                   harri.kilpio@gmail.com        \n",
      "Lado Lomidze                   lado.lomidze@gmail.com        \n",
      "Simon Sattes                   simon.sattes@gmail.com        \n",
      "Jo Liss                        joliss42@gmail.com            \n",
      "Shahyar Ghobadpour             shahyar@gmail.com             \n",
      "Lukasz Lipinski                uzza17@gmail.com              \n",
      "Timo Tijhof                    krinklemail@gmail.com         \n",
      "EungJun Yi                     semtlenori@gmail.com          \n",
      "Courtland Allen                courtlandallen@gmail.com      \n",
      "Viktar Varvanovich             non4eg@gmail.com              \n",
      "Danny Trunk                    dtrunk90@gmail.com            \n",
      "Michael Stay                   metaweta@gmail.com            \n",
      "Steven Roussey                 sroussey@gmail.com            \n",
      "Michael Hollis                 hollis21@gmail.com            \n",
      "Timmy Willison                 timmywillisn@gmail.com        \n",
      "Karl Swedberg                  kswedberg@gmail.com           \n",
      "Maciej Mroziński               maciej.k.mrozinski@gmail.com  \n",
      "Luis Dalmolin                  luis.nh@gmail.com             \n",
      "Mark Aaron Shirley             maspwr@gmail.com              \n",
      "Jiayi Yang                     tr870829@gmail.com            \n",
      "Sindre Sorhus                  sindresorhus@gmail.com        \n",
      "Rafael Xavier de Souza         rxaviers@gmail.com            \n",
      "Robert Beuligmann              robertbeuligmann@gmail.com    \n",
      "Dale Kocian                    dale.kocian@gmail.com         \n",
      "Mike Sherov                    mike.sherov@gmail.com         \n",
      "David Souther                  davidsouther@gmail.com        \n",
      "Avinash R                      nashpapa@gmail.com            \n",
      "Ethan Romba                    ethanromba@gmail.com          \n",
      "Cory Gackenheimer              cory.gack@gmail.com           \n",
      "Juan Pablo Kaniefsky           jpkaniefsky@gmail.com         \n",
      "Roman Salnikov                 bardt.dz@gmail.com            \n",
      "Viktor Kojouharov              vkojouharov@gmail.com         \n",
      "Pavel Selitskas                p.selitskas@gmail.com         \n",
      "David Sullivan                 david.sullivan@gmail.com      \n",
      "Vahid Sohrabloo                vahid4134@gmail.com           \n",
      "Travis Carden                  travis.carden@gmail.com       \n",
      "Nathanael Silverman            nathanael.silverman@gmail.com \n",
      "Zaven Muradyan                 megalivoithos@gmail.com       \n",
      "Zbigniew Motyka                zbigniew.motyka@gmail.com     \n",
      "Suhail Alkowaileet             xsoh.k7@gmail.com             \n",
      "David Hansen                   hansede@gmail.com             \n",
      "Brian Grinstead                briangrinstead@gmail.com      \n",
      "Christian Klammer              christian314159@gmail.com     \n",
      "Gan Eng Chin                   engchin.gan@gmail.com         \n",
      "Alexander Schmitz              arschmitz@gmail.com           \n",
      "Pere Orga                      gotrunks@gmail.com            \n",
      "Stephane Deschamps             stephane.deschamps@gmail.com  \n",
      "Jyoti Deka                     dekajp@gmail.com              \n",
      "Andrei Picus                   office.nightcrawler@gmail.com \n",
      "Jacob McCutcheon               jacob.mccutcheon@gmail.com    \n",
      "Monika Piotrowicz              monika.piotrowicz@gmail.com   \n",
      "Eric Dahl                      eric.c.dahl@gmail.com         \n",
      "Daniel DeGroff                 djdegroff@gmail.com           \n",
      "Michael Wiencek                mwtuea@gmail.com              \n",
      "Thomas Meyer                   meyertee@gmail.com            \n",
      "Trisha Crowley                 trisha.crowley@gmail.com      \n",
      "Usman Akeju                    akeju00+github@gmail.com      \n",
      "Rodrigo Menezes                rod333@gmail.com              \n",
      "Will Holley                    willholley@gmail.com          \n",
      "Uri Gilad                      antishok@gmail.com            \n",
      "Richard Gibson                 richard.gibson@gmail.com      \n",
      "Simen Bekkhus                  sbekkhus91@gmail.com          \n",
      "Chen Eshchar                   eshcharc@gmail.com            \n",
      "Bruno Pérel                    brunoperel@gmail.com          \n",
      "Adam Foster                    slimfoster@gmail.com          \n",
      "Luke Page                      luke.a.page@gmail.com         \n",
      "Patricia Juarez                patrixd@gmail.com             \n",
      "Ablay Keldibek                 atomio.ak@gmail.com           \n",
      "Jiabao Wu                      jiabao.foss@gmail.com         \n",
      "Victor Homyakov                vkhomyackov@gmail.com         \n",
      "Myeongjin Lee                  aranet100@gmail.com           \n",
      "Liran Sharir                   lsharir@gmail.com             \n",
      "Mani Mishra                    manimishra902@gmail.com       \n",
      "Hannah Methvin                 hannahmethvin@gmail.com       \n",
      "Leonardo Balter                leonardo.balter@gmail.com     \n",
      "Michał Gołębiowski             m.goleb@gmail.com             \n",
      "Alyosha Pushak                 alyosha.pushak@gmail.com      \n",
      "Francesc Baeta                 francesc.baeta@gmail.com      \n",
      "Mukul Hase                     mukulhase@gmail.com           \n",
      "Maksim Ryzhikov                rv.maksim@gmail.com           \n",
      "Amanpreet Singh                apsdehal@gmail.com            \n",
      "Alexey Balchunas               bleshik@gmail.com             \n",
      "Peter Kehl                     peter.kehl@gmail.com          \n"
     ]
    }
   ],
   "source": [
    "# Ex2: Read authors.txt, find authors who use gmail\n",
    "with open('authors.txt', 'r') as f:\n",
    "    lines = f.readlines()\n",
    "\n",
    "for li in lines:\n",
    "    if 'gmail' in li:\n",
    "        name_email = li.strip().split('<')\n",
    "        name = name_email[0].strip()\n",
    "        email = name_email[1].strip()[:-1]\n",
    "        print(f'{name:<30} {email:<30}')"
   ]
  },
  {
   "cell_type": "code",
   "execution_count": 26,
   "metadata": {},
   "outputs": [
    {
     "name": "stdout",
     "output_type": "stream",
     "text": [
      ".\n",
      "..\n",
      "Current directory:\n",
      "demo_file.ipynb\n",
      "books.csv\n",
      "demo_exception.ipynb\n",
      "authors.txt\n",
      "hello.txt\n",
      "agencies.txt\n"
     ]
    }
   ],
   "source": [
    "import os # operating system module\n",
    "print(os.curdir) # current directory\n",
    "print(os.pardir) # parent directory\n",
    "print('Current directory:')\n",
    "files = os.listdir(os.curdir) # list all files in the current directory\n",
    "for f in files:\n",
    "    if not os.path.isdir(f):\n",
    "        print(f)\n",
    "\n",
    "\n"
   ]
  }
 ],
 "metadata": {
  "kernelspec": {
   "display_name": "Python 3",
   "language": "python",
   "name": "python3"
  },
  "language_info": {
   "codemirror_mode": {
    "name": "ipython",
    "version": 3
   },
   "file_extension": ".py",
   "mimetype": "text/x-python",
   "name": "python",
   "nbconvert_exporter": "python",
   "pygments_lexer": "ipython3",
   "version": "3.9.12"
  }
 },
 "nbformat": 4,
 "nbformat_minor": 2
}
