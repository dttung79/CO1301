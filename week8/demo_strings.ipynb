{
 "cells": [
  {
   "cell_type": "code",
   "execution_count": 2,
   "metadata": {},
   "outputs": [
    {
     "name": "stdout",
     "output_type": "stream",
     "text": [
      "H d\n",
      "Hello World\n"
     ]
    }
   ],
   "source": [
    "s = 'Hello Python World'\n",
    "print(s[0], s[-1])\n",
    "print(s[:5], s[-5:])"
   ]
  },
  {
   "cell_type": "code",
   "execution_count": null,
   "metadata": {},
   "outputs": [],
   "source": [
    "# string is immutable, cannot change its characters\n",
    "s[0] = 'h' # error"
   ]
  },
  {
   "cell_type": "code",
   "execution_count": 4,
   "metadata": {},
   "outputs": [
    {
     "name": "stdout",
     "output_type": "stream",
     "text": [
      "1 (3, 4, 5)\n"
     ]
    }
   ],
   "source": [
    "# tuple is similar to list but immutable like string\n",
    "a = (1, 2, 3, 4, 5)\n",
    "print(a[0], a[2:5])"
   ]
  },
  {
   "cell_type": "code",
   "execution_count": 5,
   "metadata": {},
   "outputs": [
    {
     "ename": "TypeError",
     "evalue": "'tuple' object does not support item assignment",
     "output_type": "error",
     "traceback": [
      "\u001b[0;31m---------------------------------------------------------------------------\u001b[0m",
      "\u001b[0;31mTypeError\u001b[0m                                 Traceback (most recent call last)",
      "Input \u001b[0;32mIn [5]\u001b[0m, in \u001b[0;36m<cell line: 1>\u001b[0;34m()\u001b[0m\n\u001b[0;32m----> 1\u001b[0m a[\u001b[38;5;241m0\u001b[39m] \u001b[38;5;241m=\u001b[39m \u001b[38;5;241m100\u001b[39m\n",
      "\u001b[0;31mTypeError\u001b[0m: 'tuple' object does not support item assignment"
     ]
    }
   ],
   "source": [
    "a[0] = 100 # error"
   ]
  },
  {
   "cell_type": "code",
   "execution_count": 6,
   "metadata": {},
   "outputs": [
    {
     "name": "stdout",
     "output_type": "stream",
     "text": [
      "3.141592653589793\n"
     ]
    }
   ],
   "source": [
    "# Format string: format number, justification, etc\n",
    "PI = 3.141592653589793\n",
    "print(PI)"
   ]
  },
  {
   "cell_type": "code",
   "execution_count": 8,
   "metadata": {},
   "outputs": [
    {
     "name": "stdout",
     "output_type": "stream",
     "text": [
      "3.14\n",
      "3.14159\n"
     ]
    }
   ],
   "source": [
    "print(f'{PI:0.2f}') # print PI with 2 decimal places\n",
    "print(f'{PI:.5f}')  # print PI with 5 decimal places"
   ]
  },
  {
   "cell_type": "code",
   "execution_count": 9,
   "metadata": {},
   "outputs": [
    {
     "name": "stdout",
     "output_type": "stream",
     "text": [
      "|                 123|\n",
      "|Hello World         |\n"
     ]
    }
   ],
   "source": [
    "n = 123\n",
    "s = 'Hello World'\n",
    "print(f'|{n:20}|')  # print n with 20 spaces\n",
    "print(f'|{s:20}|')    # print s with 20 spaces"
   ]
  },
  {
   "cell_type": "code",
   "execution_count": 11,
   "metadata": {},
   "outputs": [
    {
     "name": "stdout",
     "output_type": "stream",
     "text": [
      "|123                 |\n",
      "|         Hello World|\n",
      "|    Hello World     |\n"
     ]
    }
   ],
   "source": [
    "print(f'|{n:<20}|')     # print n with 20 spaces, left justified\n",
    "print(f'|{s:>20}|')     # print s with 20 spaces, right justified\n",
    "print(f'|{s:^20}|')     # print s with 20 spaces, center justified"
   ]
  },
  {
   "cell_type": "code",
   "execution_count": 12,
   "metadata": {},
   "outputs": [
    {
     "name": "stdout",
     "output_type": "stream",
     "text": [
      "Interest rate: 5.00%\n",
      "Interest rate: 5.00e-02\n"
     ]
    }
   ],
   "source": [
    "interest = 0.05\n",
    "print(f'Interest rate: {interest:.2%}') # format as percentage\n",
    "print(f'Interest rate: {interest:.2e}') # format as exponential"
   ]
  },
  {
   "cell_type": "code",
   "execution_count": 15,
   "metadata": {},
   "outputs": [
    {
     "name": "stdout",
     "output_type": "stream",
     "text": [
      "Name      :          John Lennon\n",
      "Age       :                   20\n",
      "Grade     :                 8.90\n"
     ]
    }
   ],
   "source": [
    "name = input('Enter your name: ')\n",
    "age = int(input('Enter your age: '))\n",
    "grade = float(input('Enter your grade: '))\n",
    "print(f'{\"Name\":<10}: {name:>20}')\n",
    "print(f'{\"Age\":<10}: {age:>20}')\n",
    "print(f'{\"Grade\":<10}: {grade:>20.2f}')"
   ]
  },
  {
   "cell_type": "code",
   "execution_count": 20,
   "metadata": {},
   "outputs": [
    {
     "name": "stdout",
     "output_type": "stream",
     "text": [
      "+-----+----------+-----+----------+\n",
      "|No   |   Name   | Age |  Salary  |\n",
      "+-----+----------+-----+----------+\n",
      "|1    |Alice     |   20|     20000|\n",
      "+-----+----------+-----+----------+\n",
      "|2    |Bob       |   25|     25000|\n",
      "+-----+----------+-----+----------+\n",
      "|3    |Charlie   |   30|     30000|\n",
      "+-----+----------+-----+----------+\n",
      "|4    |David     |   35|     35000|\n",
      "+-----+----------+-----+----------+\n",
      "|5    |Eve       |   40|     40000|\n",
      "+-----+----------+-----+----------+\n",
      "|6    |Frank     |   45|     45000|\n",
      "+-----+----------+-----+----------+\n"
     ]
    }
   ],
   "source": [
    "names = ['Alice', 'Bob', 'Charlie', 'David', 'Eve', 'Frank']\n",
    "ages = [20, 25, 30, 35, 40, 45]\n",
    "salaries = [20000, 25000, 30000, 35000, 40000, 45000]\n",
    "# print header\n",
    "bar = '+' + '-' * 5 + '+' + '-' * 10 + '+' + '-' * 5 + '+' + '-' * 10 + '+'\n",
    "print(bar)\n",
    "print(f'|{\"No\":<5}|{\"Name\":^10}|{\"Age\":^5}|{\"Salary\":^10}|')\n",
    "print(bar)\n",
    "\n",
    "for i in range(len(names)):\n",
    "    print(f'|{i+1:<5}|{names[i]:<10}|{ages[i]:>5}|{salaries[i]:>10}|')\n",
    "    print(bar)"
   ]
  },
  {
   "cell_type": "code",
   "execution_count": 22,
   "metadata": {},
   "outputs": [
    {
     "name": "stdout",
     "output_type": "stream",
     "text": [
      "HELLO PYTHON WORLD\n",
      "hello python world\n",
      "Hello python world\n",
      "Hello Python World\n",
      "HELLo pytHON woRLD\n"
     ]
    }
   ],
   "source": [
    "s = 'hellO PYThon WOrld'\n",
    "print(s.upper()) # convert to uppercase\n",
    "print(s.lower()) # convert to lowercase\n",
    "print(s.capitalize()) # capitalize first letter\n",
    "print(s.title()) # capitalize first letter of each word\n",
    "print(s.swapcase()) # swap case"
   ]
  },
  {
   "cell_type": "code",
   "execution_count": 23,
   "metadata": {},
   "outputs": [
    {
     "name": "stdout",
     "output_type": "stream",
     "text": [
      "|   Hello Python World   |\n",
      "|Hello Python World   |\n",
      "|   Hello Python World|\n",
      "|Hello Python World|\n"
     ]
    }
   ],
   "source": [
    "s = '   Hello Python World   '\n",
    "print(f'|{s}|') # original string with leading and trailing spaces\n",
    "print(f'|{s.lstrip()}|') # remove leading spaces\n",
    "print(f'|{s.rstrip()}|') # remove trailing spaces\n",
    "print(f'|{s.strip()}|') # remove leading and trailing spaces"
   ]
  },
  {
   "cell_type": "code",
   "execution_count": 25,
   "metadata": {},
   "outputs": [
    {
     "name": "stdout",
     "output_type": "stream",
     "text": [
      "Hell* Pyth*n W*rld\n",
      "Get the f*** off\n"
     ]
    }
   ],
   "source": [
    "# replace substring\n",
    "s = 'Hello Python World'\n",
    "# replace 'o' by '*'\n",
    "print(s.replace('o', '*'))\n",
    "s = 'Get the fuck off'\n",
    "print(s.replace('fuck', 'f***'))"
   ]
  },
  {
   "cell_type": "code",
   "execution_count": 27,
   "metadata": {},
   "outputs": [
    {
     "name": "stdout",
     "output_type": "stream",
     "text": [
      "No swearing pls!\n"
     ]
    }
   ],
   "source": [
    "# Using in operator to check if a substring exist in a string\n",
    "s = input('Enter a sentence: ')\n",
    "if 'fuck' in s:\n",
    "    print('No swearing pls!')\n",
    "else:\n",
    "    print(s)"
   ]
  },
  {
   "cell_type": "code",
   "execution_count": 31,
   "metadata": {},
   "outputs": [
    {
     "name": "stdout",
     "output_type": "stream",
     "text": [
      "12A contains just letters and numbers\n"
     ]
    }
   ],
   "source": [
    "s = input('Enter a string: ')\n",
    "if s.isnumeric():\n",
    "    print(f'{s} contains only numbers')\n",
    "elif s.isalpha():\n",
    "    print(f'{s} contains only letters')\n",
    "elif s.isalnum():\n",
    "    print(f'{s} contains just letters and numbers')\n",
    "else:\n",
    "    print(f'{s} contains some specific characters')"
   ]
  }
 ],
 "metadata": {
  "kernelspec": {
   "display_name": "Python 3",
   "language": "python",
   "name": "python3"
  },
  "language_info": {
   "codemirror_mode": {
    "name": "ipython",
    "version": 3
   },
   "file_extension": ".py",
   "mimetype": "text/x-python",
   "name": "python",
   "nbconvert_exporter": "python",
   "pygments_lexer": "ipython3",
   "version": "3.9.12"
  }
 },
 "nbformat": 4,
 "nbformat_minor": 2
}
