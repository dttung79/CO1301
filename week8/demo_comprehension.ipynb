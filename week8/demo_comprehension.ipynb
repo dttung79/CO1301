{
 "cells": [
  {
   "cell_type": "code",
   "execution_count": null,
   "metadata": {},
   "outputs": [],
   "source": [
    "# list comprehension syntax [expression for item in list if condition]"
   ]
  },
  {
   "cell_type": "code",
   "execution_count": 2,
   "metadata": {},
   "outputs": [
    {
     "name": "stdout",
     "output_type": "stream",
     "text": [
      "[27, 41, 62, 99, 36, 60, 63, 12, 98, 50, 51, 56, 28, 38, 86]\n"
     ]
    }
   ],
   "source": [
    "import random as rd\n",
    "numbers = rd.sample(range(11, 100), 15)\n",
    "print(numbers)"
   ]
  },
  {
   "cell_type": "code",
   "execution_count": 3,
   "metadata": {},
   "outputs": [
    {
     "name": "stdout",
     "output_type": "stream",
     "text": [
      "[0, 0, 0, 0, 0, 0, 0, 0, 0, 0, 0, 0, 0, 0, 0]\n"
     ]
    }
   ],
   "source": [
    "doubles = [0] * len(numbers) # create another list with the same length as numbers, containing 0\n",
    "print(doubles)"
   ]
  },
  {
   "cell_type": "code",
   "execution_count": 4,
   "metadata": {},
   "outputs": [
    {
     "name": "stdout",
     "output_type": "stream",
     "text": [
      "[54, 82, 124, 198, 72, 120, 126, 24, 196, 100, 102, 112, 56, 76, 172]\n"
     ]
    }
   ],
   "source": [
    "for i in range(len(numbers)):\n",
    "    doubles[i] = numbers[i] * 2\n",
    "print(doubles)"
   ]
  },
  {
   "cell_type": "code",
   "execution_count": 5,
   "metadata": {},
   "outputs": [
    {
     "name": "stdout",
     "output_type": "stream",
     "text": [
      "[54, 82, 124, 198, 72, 120, 126, 24, 196, 100, 102, 112, 56, 76, 172]\n"
     ]
    }
   ],
   "source": [
    "# list comprehension syntax [expression for item in list if condition]\n",
    "doubles = [n * 2 for n in numbers]\n",
    "print(doubles)"
   ]
  },
  {
   "cell_type": "code",
   "execution_count": 8,
   "metadata": {},
   "outputs": [
    {
     "name": "stdout",
     "output_type": "stream",
     "text": [
      "[27, 41, 62, 99, 36, 60, 63, 12, 98, 50, 51, 56, 28, 38, 86]\n",
      "[81, 123, 186, 297, 108, 180, 189, 36, 294, 150, 153, 168, 84, 114, 258]\n",
      "[7, 1, 2, 9, 6, 0, 3, 2, 8, 0, 1, 6, 8, 8, 6]\n"
     ]
    }
   ],
   "source": [
    "print(numbers)\n",
    "# get a list of triple elements from numbers\n",
    "triples = [n * 3 for n in numbers]\n",
    "print(triples)\n",
    "# get a list of digits from numbers\n",
    "digits = [n % 10 for n in numbers]\n",
    "print(digits)"
   ]
  },
  {
   "cell_type": "code",
   "execution_count": 10,
   "metadata": {},
   "outputs": [
    {
     "name": "stdout",
     "output_type": "stream",
     "text": [
      "[27, 41, 62, 99, 36, 60, 63, 12, 98, 50, 51, 56, 28, 38, 86]\n",
      "[62, 36, 60, 12, 98, 50, 56, 28, 38, 86]\n"
     ]
    }
   ],
   "source": [
    "# list comprehension syntax [expression for item in list if condition]\n",
    "print(numbers)\n",
    "evens = []\n",
    "for n in numbers:\n",
    "    if n % 2 == 0:\n",
    "        evens.append(n)\n",
    "print(evens)"
   ]
  },
  {
   "cell_type": "code",
   "execution_count": 13,
   "metadata": {},
   "outputs": [
    {
     "name": "stdout",
     "output_type": "stream",
     "text": [
      "[62, 36, 60, 12, 98, 50, 56, 28, 38, 86]\n",
      "[27, 41, 99, 63, 51]\n"
     ]
    }
   ],
   "source": [
    "evens = [n for n in numbers if n % 2 == 0]\n",
    "print(evens)\n",
    "odds = [n for n in numbers if n % 2 != 0]\n",
    "print(odds)"
   ]
  },
  {
   "cell_type": "code",
   "execution_count": 14,
   "metadata": {},
   "outputs": [
    {
     "name": "stdout",
     "output_type": "stream",
     "text": [
      "[62, 99, 60, 63, 98, 50, 51, 56, 86]\n"
     ]
    }
   ],
   "source": [
    "# get a list of big numbers (n >= 50) from numbers\n",
    "bigs = [n for n in numbers if n >= 50]\n",
    "print(bigs)"
   ]
  },
  {
   "cell_type": "code",
   "execution_count": 15,
   "metadata": {},
   "outputs": [
    {
     "name": "stdout",
     "output_type": "stream",
     "text": [
      "[5, 3, 7, 5]\n"
     ]
    }
   ],
   "source": [
    "# Convert a list to another list\n",
    "names = ['Alice', 'Bob', 'Charlie', 'David']\n",
    "lengths = [len(name) for name in names]\n",
    "print(lengths)"
   ]
  },
  {
   "cell_type": "code",
   "execution_count": 16,
   "metadata": {},
   "outputs": [
    {
     "name": "stdout",
     "output_type": "stream",
     "text": [
      "['A', 'B', 'C', 'D']\n"
     ]
    }
   ],
   "source": [
    "# Convert numbers to corresponding characters (ASCII)\n",
    "a = [65, 66, 67, 68]\n",
    "chars = [chr(n) for n in a]\n",
    "print(chars)"
   ]
  },
  {
   "cell_type": "code",
   "execution_count": 17,
   "metadata": {},
   "outputs": [
    {
     "name": "stdout",
     "output_type": "stream",
     "text": [
      "[73, 32, 108, 111, 118, 101, 32, 121, 111, 117]\n"
     ]
    }
   ],
   "source": [
    "# or vice versa\n",
    "s = 'I love you'\n",
    "numbers = [ord(c) for c in s]\n",
    "print(numbers)"
   ]
  },
  {
   "cell_type": "code",
   "execution_count": 18,
   "metadata": {},
   "outputs": [
    {
     "name": "stdout",
     "output_type": "stream",
     "text": [
      "['Alice Cooper', 'Charlie Brown', 'Paul McCartney']\n"
     ]
    }
   ],
   "source": [
    "names = ['Bob Dylan', 'Alice Cooper', 'Charlie Brown', 'David Bowie', 'John Lennon', 'Paul McCartney']\n",
    "# get long names with more than 11 characters\n",
    "long_names = [name for name in names if len(name) > 11]\n",
    "print(long_names)"
   ]
  }
 ],
 "metadata": {
  "kernelspec": {
   "display_name": "Python 3",
   "language": "python",
   "name": "python3"
  },
  "language_info": {
   "codemirror_mode": {
    "name": "ipython",
    "version": 3
   },
   "file_extension": ".py",
   "mimetype": "text/x-python",
   "name": "python",
   "nbconvert_exporter": "python",
   "pygments_lexer": "ipython3",
   "version": "3.9.12"
  }
 },
 "nbformat": 4,
 "nbformat_minor": 2
}
