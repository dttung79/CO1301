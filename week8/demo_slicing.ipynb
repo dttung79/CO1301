{
 "cells": [
  {
   "cell_type": "code",
   "execution_count": 3,
   "metadata": {},
   "outputs": [
    {
     "name": "stdout",
     "output_type": "stream",
     "text": [
      "[78, 27, 37, 81, 85, 90, 48, 66, 80, 92]\n"
     ]
    }
   ],
   "source": [
    "import random as rd\n",
    "# generate 10 random numbers between 1 and 99\n",
    "numbers = rd.sample(range(1, 100), 10)\n",
    "print(numbers)"
   ]
  },
  {
   "cell_type": "code",
   "execution_count": 8,
   "metadata": {},
   "outputs": [
    {
     "name": "stdout",
     "output_type": "stream",
     "text": [
      "[78, 27, 37, 81, 85] [78, 27, 37, 81, 85]\n",
      "[37, 81, 85, 90, 48] [37, 81, 85, 90, 48]\n",
      "[66, 80, 92] [66, 80, 92]\n"
     ]
    }
   ],
   "source": [
    "print(numbers[:5], numbers[0:5])        # get the first 5 numbers\n",
    "print(numbers[2:7], numbers[2:-3])      # get the 3rd to 7th numbers\n",
    "print(numbers[-3:], numbers[7:])        # get the last 3 numbers"
   ]
  },
  {
   "cell_type": "code",
   "execution_count": 9,
   "metadata": {},
   "outputs": [
    {
     "name": "stdout",
     "output_type": "stream",
     "text": [
      "[54, 20, 98, 85, 88, 67]\n"
     ]
    }
   ],
   "source": [
    "numbers = rd.sample(range(1, 100), 6)\n",
    "print(numbers)"
   ]
  },
  {
   "cell_type": "code",
   "execution_count": 10,
   "metadata": {},
   "outputs": [
    {
     "name": "stdout",
     "output_type": "stream",
     "text": [
      "[20, 85, 67]\n",
      "[54, 98]\n",
      "[98, 88]\n",
      "[85, 67]\n",
      "[54, 98, 88]\n",
      "[20, 85, 67]\n"
     ]
    }
   ],
   "source": [
    "print(numbers[1:6:2]) # get from a[1], skip 2, before a[6]\n",
    "print(numbers[:4:2])  # get from a[0], skip 2, before a[4]\n",
    "print(numbers[2::2])  # get from a[2], skip 2, till the end\n",
    "print(numbers[3::2])  # get from a[3], skip 2, till the end\n",
    "print(numbers[::2])   # get from a[0], skip 2, till the end\n",
    "print(numbers[1::2])  # get from a[1], skip 2, till the end"
   ]
  },
  {
   "cell_type": "code",
   "execution_count": 13,
   "metadata": {},
   "outputs": [
    {
     "name": "stdout",
     "output_type": "stream",
     "text": [
      "[]\n",
      "[88, 85, 98]\n",
      "[]\n"
     ]
    }
   ],
   "source": [
    "print(numbers[4:1])     # empty list because go forward but start after end\n",
    "print(numbers[4:1:-1])  # get from a[4], go back, stop before a[1]\n",
    "print(numbers[1:4:-1])  # empty list because go back but start before end"
   ]
  },
  {
   "cell_type": "code",
   "execution_count": 15,
   "metadata": {},
   "outputs": [
    {
     "name": "stdout",
     "output_type": "stream",
     "text": [
      "[98]\n",
      "[]\n"
     ]
    }
   ],
   "source": [
    "print(numbers[2:3])\n",
    "print(numbers[3:3])"
   ]
  },
  {
   "cell_type": "code",
   "execution_count": 16,
   "metadata": {},
   "outputs": [
    {
     "name": "stdout",
     "output_type": "stream",
     "text": [
      "[54, 20, 98, 85, 88, 67]\n"
     ]
    }
   ],
   "source": [
    "print(numbers)"
   ]
  },
  {
   "cell_type": "code",
   "execution_count": 17,
   "metadata": {},
   "outputs": [
    {
     "name": "stdout",
     "output_type": "stream",
     "text": [
      "[67, 85, 20]\n",
      "[67, 88, 85, 98, 20, 54]\n"
     ]
    }
   ],
   "source": [
    "print(numbers[::-2])\n",
    "print(numbers[::-1])"
   ]
  }
 ],
 "metadata": {
  "kernelspec": {
   "display_name": "Python 3",
   "language": "python",
   "name": "python3"
  },
  "language_info": {
   "codemirror_mode": {
    "name": "ipython",
    "version": 3
   },
   "file_extension": ".py",
   "mimetype": "text/x-python",
   "name": "python",
   "nbconvert_exporter": "python",
   "pygments_lexer": "ipython3",
   "version": "3.9.12"
  }
 },
 "nbformat": 4,
 "nbformat_minor": 2
}
