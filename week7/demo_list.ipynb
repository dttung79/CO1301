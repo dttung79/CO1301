{
 "cells": [
  {
   "cell_type": "code",
   "execution_count": 5,
   "metadata": {},
   "outputs": [
    {
     "name": "stdout",
     "output_type": "stream",
     "text": [
      "[]\n",
      "[1, 2, 3, 4, 5]\n",
      "['apple', 'banana', 'cherry']\n"
     ]
    }
   ],
   "source": [
    "# create empty list\n",
    "a = []\n",
    "# a list of numbers\n",
    "b = [1, 2, 3, 4, 5]\n",
    "# a list of strings\n",
    "fruits = ['apple', 'banana', 'cherry']\n",
    "print(a)\n",
    "print(b)\n",
    "print(fruits)"
   ]
  },
  {
   "cell_type": "code",
   "execution_count": 6,
   "metadata": {},
   "outputs": [
    {
     "name": "stdout",
     "output_type": "stream",
     "text": [
      "[1, 3.0, True, 'False']\n"
     ]
    }
   ],
   "source": [
    "# a list of mixed data types\n",
    "a = [1, 3.0, True, 'False']\n",
    "print(a)"
   ]
  },
  {
   "cell_type": "code",
   "execution_count": 7,
   "metadata": {},
   "outputs": [
    {
     "name": "stdout",
     "output_type": "stream",
     "text": [
      "1\n",
      "3.0\n",
      "True\n",
      "False\n"
     ]
    }
   ],
   "source": [
    "# Indexing: start from zero up to n-1 (suppose n is the length of the list)\n",
    "print(a[0]) # 1\n",
    "print(a[1]) # 3.0\n",
    "print(a[2]) # True\n",
    "print(a[3]) # False"
   ]
  },
  {
   "cell_type": "code",
   "execution_count": 11,
   "metadata": {},
   "outputs": [
    {
     "name": "stdout",
     "output_type": "stream",
     "text": [
      "Length of a:  6\n",
      "Max of a :  22\n",
      "Min of a:  3\n",
      "Sum of a:  55\n"
     ]
    }
   ],
   "source": [
    "a = [3, 9, 10, 22, 4, 7]\n",
    "print('Length of a: ', len(a))\n",
    "print('Max of a : ', max(a))\n",
    "print('Min of a: ', min(a))\n",
    "print('Sum of a: ', sum(a))"
   ]
  },
  {
   "cell_type": "code",
   "execution_count": 12,
   "metadata": {},
   "outputs": [
    {
     "name": "stdout",
     "output_type": "stream",
     "text": [
      "Length of a:  6\n"
     ]
    }
   ],
   "source": [
    "def my_len(a):\n",
    "    count = 0\n",
    "    for i in a:     # for each element i in a\n",
    "        count += 1\n",
    "    return count\n",
    "print('Length of a: ', my_len(a))\n"
   ]
  },
  {
   "cell_type": "code",
   "execution_count": 13,
   "metadata": {},
   "outputs": [
    {
     "name": "stdout",
     "output_type": "stream",
     "text": [
      "Even numbers in a:  3\n"
     ]
    }
   ],
   "source": [
    "# TODO: write a function that count how many even numbers in a list\n",
    "def even_len(a):\n",
    "    count = 0\n",
    "    for i in a:\n",
    "        if i % 2 == 0:\n",
    "            count += 1\n",
    "    \n",
    "    return count\n",
    "\n",
    "print('Even numbers in a: ', even_len(a))"
   ]
  },
  {
   "cell_type": "code",
   "execution_count": 14,
   "metadata": {},
   "outputs": [
    {
     "name": "stdout",
     "output_type": "stream",
     "text": [
      "Max of a:  22\n"
     ]
    }
   ],
   "source": [
    "def my_max(numbers):\n",
    "    greatest = numbers[0]\n",
    "    for n in numbers:\n",
    "        if n > greatest:    # if n > the current greatest\n",
    "            greatest = n    # udpate the greatest to n\n",
    "    return greatest\n",
    "\n",
    "print('Max of a: ', my_max(a))"
   ]
  },
  {
   "cell_type": "code",
   "execution_count": 15,
   "metadata": {},
   "outputs": [
    {
     "name": "stdout",
     "output_type": "stream",
     "text": [
      "[3, 9, 10, 22, 4, 7]\n"
     ]
    }
   ],
   "source": [
    "print(a)"
   ]
  },
  {
   "cell_type": "code",
   "execution_count": 16,
   "metadata": {},
   "outputs": [
    {
     "name": "stdout",
     "output_type": "stream",
     "text": [
      "Min of a:  3\n"
     ]
    }
   ],
   "source": [
    "# TODO: write a function to return the min of a list\n",
    "def my_min(numbers):\n",
    "    least = numbers[0]\n",
    "    for n in numbers:\n",
    "        if n < least:\n",
    "            least = n\n",
    "    return least\n",
    "print('Min of a: ', my_min(a))"
   ]
  },
  {
   "cell_type": "code",
   "execution_count": 17,
   "metadata": {},
   "outputs": [
    {
     "name": "stdout",
     "output_type": "stream",
     "text": [
      "The position of the max: 3\n"
     ]
    }
   ],
   "source": [
    "def max_index(numbers):\n",
    "    max_pos = 0\n",
    "    greatest = numbers[max_pos]\n",
    "    for i in range(len(numbers)):   # loop through the indexes of the list\n",
    "        if numbers[i] > greatest:\n",
    "            greatest = numbers[i]\n",
    "            max_pos = i\n",
    "    \n",
    "    return max_pos\n",
    "print('The position of the max:', max_index(a))"
   ]
  },
  {
   "cell_type": "code",
   "execution_count": 19,
   "metadata": {},
   "outputs": [
    {
     "name": "stdout",
     "output_type": "stream",
     "text": [
      "Min of a is 3 at position 0\n"
     ]
    }
   ],
   "source": [
    "# TODO write a function to return the index of the min of a list\n",
    "def min_index(numbers):\n",
    "    min_pos = 0\n",
    "    least = numbers[min_pos]\n",
    "    for i in range(len(numbers)):\n",
    "        if numbers[i] < least:\n",
    "            least = numbers[i]\n",
    "            min_pos = i\n",
    "    return min_pos\n",
    "min_pos = min_index(a)\n",
    "print(f'Min of a is {a[min_pos]} at position {min_pos}')"
   ]
  },
  {
   "cell_type": "code",
   "execution_count": 21,
   "metadata": {},
   "outputs": [
    {
     "name": "stdout",
     "output_type": "stream",
     "text": [
      "[3, 9, 10, 22, 4, 7]\n",
      "Sum of a:  55\n"
     ]
    }
   ],
   "source": [
    "print(a)\n",
    "def my_sum(numbers):\n",
    "    s = 0\n",
    "    # for n in numbers:\n",
    "    #     s += n\n",
    "    for i in range(len(numbers)):\n",
    "        s += numbers[i]\n",
    "    return s\n",
    "print('Sum of a: ', my_sum(a))"
   ]
  },
  {
   "cell_type": "code",
   "execution_count": 22,
   "metadata": {},
   "outputs": [
    {
     "name": "stdout",
     "output_type": "stream",
     "text": [
      "Sum of odd numbers in a:  19\n"
     ]
    }
   ],
   "source": [
    "# write a function to sum up all the odd numbers in a list\n",
    "def my_odd_sum(numbers):\n",
    "    s = 0\n",
    "    for n in numbers:\n",
    "        if n % 2 != 0:\n",
    "            s += n\n",
    "    return s\n",
    "print('Sum of odd numbers in a: ', my_odd_sum(a))"
   ]
  },
  {
   "cell_type": "code",
   "execution_count": 23,
   "metadata": {},
   "outputs": [
    {
     "name": "stdout",
     "output_type": "stream",
     "text": [
      "[3, 9, 10, 22, 4, 7]\n"
     ]
    }
   ],
   "source": [
    "print(a)"
   ]
  },
  {
   "cell_type": "code",
   "execution_count": 31,
   "metadata": {},
   "outputs": [],
   "source": [
    "a = [3, 9, 10, 22, 4, 7]\n",
    "def my_sort_desc(numbers):\n",
    "    n = len(numbers)\n",
    "    for i in range(n-1):\n",
    "        for j in range(i+1, n):\n",
    "            if numbers[i] < numbers[j]:\n",
    "                temp = numbers[i]\n",
    "                numbers[i] = numbers[j]\n",
    "                numbers[j] = temp\n",
    "        print(numbers)  # print current sorting numbers after each loop"
   ]
  },
  {
   "cell_type": "code",
   "execution_count": 32,
   "metadata": {},
   "outputs": [
    {
     "name": "stdout",
     "output_type": "stream",
     "text": [
      "[22, 3, 9, 10, 4, 7]\n",
      "[22, 10, 3, 9, 4, 7]\n",
      "[22, 10, 9, 3, 4, 7]\n",
      "[22, 10, 9, 7, 3, 4]\n",
      "[22, 10, 9, 7, 4, 3]\n",
      "[22, 10, 9, 7, 4, 3]\n"
     ]
    }
   ],
   "source": [
    "my_sort_desc(a)\n",
    "print(a)"
   ]
  },
  {
   "cell_type": "code",
   "execution_count": 33,
   "metadata": {},
   "outputs": [
    {
     "name": "stdout",
     "output_type": "stream",
     "text": [
      "[3, 4, 7, 9, 10, 22]\n",
      "[22, 10, 9, 7, 4, 3]\n"
     ]
    }
   ],
   "source": [
    "def my_sort(numbers, asc=True): # numbers is positional argument, asc is keyword argument\n",
    "    n = len(numbers)\n",
    "    for i in range(n-1):\n",
    "        for j in range(i+1, n):\n",
    "            if asc == True:\n",
    "                if numbers[i] > numbers[j]:\n",
    "                    numbers[i], numbers[j] = numbers[j], numbers[i]\n",
    "            else:\n",
    "                if numbers[i] < numbers[j]:\n",
    "                    numbers[i], numbers[j] = numbers[j], numbers[i]\n",
    "\n",
    "a = [3, 9, 10, 22, 4, 7]\n",
    "# call my_sort with default asc=True\n",
    "my_sort(a)\n",
    "print(a)\n",
    "a = [3, 9, 10, 22, 4, 7]\n",
    "# call my_sort with asc=False\n",
    "my_sort(a, asc=False)\n",
    "print(a)"
   ]
  },
  {
   "cell_type": "code",
   "execution_count": 34,
   "metadata": {},
   "outputs": [
    {
     "name": "stdout",
     "output_type": "stream",
     "text": [
      "[3, 4, 7, 9, 10, 22]\n",
      "[3, 9, 10, 22, 4, 7]\n"
     ]
    }
   ],
   "source": [
    "a = [3, 9, 10, 22, 4, 7]\n",
    "b = sorted(a)   # return a new sorted list\n",
    "print(b)\n",
    "print(a) # a is not changed"
   ]
  },
  {
   "cell_type": "code",
   "execution_count": 35,
   "metadata": {},
   "outputs": [
    {
     "name": "stdout",
     "output_type": "stream",
     "text": [
      "[3, 4, 7, 9, 10, 22]\n"
     ]
    }
   ],
   "source": [
    "a.sort()    # sort a in place\n",
    "print(a)"
   ]
  },
  {
   "cell_type": "code",
   "execution_count": 36,
   "metadata": {},
   "outputs": [
    {
     "name": "stdout",
     "output_type": "stream",
     "text": [
      "['George', 'John', 'Paul', 'Ringo']\n"
     ]
    }
   ],
   "source": [
    "names = ['John', 'Paul', 'George', 'Ringo']\n",
    "my_sort(names) # sort names ascending in alphabetical order\n",
    "print(names)"
   ]
  }
 ],
 "metadata": {
  "kernelspec": {
   "display_name": "Python 3",
   "language": "python",
   "name": "python3"
  },
  "language_info": {
   "codemirror_mode": {
    "name": "ipython",
    "version": 3
   },
   "file_extension": ".py",
   "mimetype": "text/x-python",
   "name": "python",
   "nbconvert_exporter": "python",
   "pygments_lexer": "ipython3",
   "version": "3.9.12"
  }
 },
 "nbformat": 4,
 "nbformat_minor": 2
}
